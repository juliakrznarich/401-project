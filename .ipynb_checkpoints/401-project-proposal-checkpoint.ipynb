{
 "cells": [
  {
   "cell_type": "markdown",
   "id": "a95173e8-bbe8-4d5f-8a7e-58bdc73c80f9",
   "metadata": {},
   "source": [
    "# Computational Investigation of Oxygen Binding in Wild-Type and H64Q Myoglobin\n",
    "\n",
    "By Julia Krznarich"
   ]
  },
  {
   "cell_type": "markdown",
   "id": "106e9c2d-d1d1-4bfb-a79f-5bb490d9bcd5",
   "metadata": {},
   "source": [
    "<img alt=\"Simple Icon of a camera. This is just a place holder for your image\" src=\"https://www.google.com/url?sa=i&url=https%3A%2F%2Fcatalog.ngc.nvidia.com%2Forgs%2Fnvidia%2Fcontainers%2Fopenmm&psig=AOvVaw3u7_8qImvfWOXv84H9fst1&ust=1739241619395000&source=images&cd=vfe&opi=89978449&ved=0CBQQjRxqFwoTCJD-7omKuIsDFQAAAAAdAAAAABAE![image.png](attachment:666894b6-da0b-4b35-9469-94a605d73c74.png)![image.png](attachment:5ee69362-a2d8-4501-b298-ab3ce34947eb.png)![image.png](attachment:e77fd88a-a0f4-4b4c-b5b2-bd02da0d47f5.png)![image.png](attachment:afff1bde-0b07-45ec-97c9-a182f3c748a5.png)\" width=\"20%\">\n",
    "\n",
    "Image from: [https://catalog.ngc.nvidia.com/orgs/nvidia/containers/openmm)"
   ]
  },
  {
   "cell_type": "markdown",
   "id": "1dba1b7e-6b0e-46e8-a925-db493342d5ab",
   "metadata": {},
   "source": [
    "----\n",
    "### Abstract\n",
    "\n",
    "This project explores the biochemical domain of protein structure and function, an area I'm passionate about as a biochemistry student. Understanding how mutations impact protein behavior is fundamental to comprehending disease, developing therapies, and engineering novel proteins.  Computation, particularly molecular dynamics simulations, is crucial in this field, providing atomic-level insights often inaccessible through experiments.  Using OpenMM on a GPU-equipped high-performance computing cluster, this project will benchmark and aim to accelerate the simulation of both wild-type myoglobin and its H64Q mutant, focusing on comparing their dynamics to understand how this specific mutation affects oxygen binding.  Success will be defined by the efficient parallel simulation of both variants, providing a deeper understanding of myoglobin's function and showcasing the power of OpenMM and GPUs in biochemical research."
   ]
  },
  {
   "cell_type": "markdown",
   "id": "47bf2bcf-c454-4af7-9860-11ae38566562",
   "metadata": {},
   "source": [
    "----\n",
    "### Schedule\n",
    "\n",
    "\n",
    "* Sunday, February 9: Milestone 1: Project Proposal Due (Completed)  (Overview, Software, Problem, Outcomes, Git Repository)\n",
    "\n",
    "* Week of February 10-16: Software Exploration (OpenMM Installation & Tutorial): Install OpenMM on the HPCC.  Work through tutorials, focusing on system setup, running simulations, and data output.  Begin drafting the tutorial with clear examples, targeting peers as the audience.  Document the installation process on the HPCC.\n",
    "\n",
    "* Week of February 17-23: Software Exploration (OpenMM Deep Dive & Tutorial Completion): Explore more advanced OpenMM features (e.g., custom forces, analysis tools).  Complete the OpenMM tutorial, including examples of running simulations with different parameters and analyzing the results.  Ensure the tutorial is well-structured and easy to follow.\n",
    "\n",
    "* Week of February 24 - March 1: Milestone 2: Software Exploration Due (OpenMM Tutorial) (Tutorial Document, Installation Instructions, Example Code)\n",
    "\n",
    "* Week of March 2-8: Benchmark Problem Selection and Initial Profiling: Identify a suitable benchmark problem related to myoglobin simulations.  This could involve comparing wild-type and mutant dynamics (H64Q should be sufficient). Profile existing code if I can find them (or initial OpenMM scripts) to identify performance bottlenecks.\n",
    "\n",
    "* Week of March 9-15: Parallelization Strategy and Code Modification: Develop a strategy for parallelizing the chosen problem.  Modify OpenMM scripts or write new code to implement the parallelization using appropriate techniques (e.g., OpenMM's built-in parallelization, if applicable, or other parallel programming models if you are incorporating other software).\n",
    "\n",
    "* Week of March 16-22: Performance Optimization and Tuning: Optimize parallel code for performance. Experiment with different parameters, algorithms, and hardware configurations to improve runtime.  This might involve GPU-specific optimizations if sing GPUs.\n",
    "\n",
    "* Week of March 23-29: Benchmark Runs and Data Collection: Run benchmark tests on optimized code. Collect data on runtime, scalability, and other relevant performance metrics. Compare performance against the initial (unoptimized) version.\n",
    "\n",
    "* Week of March 30 - April 5: Analysis and Report Writing (Benchmark Results): Analyze the benchmark data.  Write the results section of the report, presenting your findings clearly and concisely. Include graphs and tables to visualize the performance improvements.\n",
    "\n",
    "* Week of April 6-12: Report Writing (Introduction, Methods, Conclusion): Write the introduction, methods (including details about the benchmark problem, parallelization strategy, and optimization techniques), and conclusion sections of your report.\n",
    "\n",
    "* Week of April 13-14: Final Revisions and Proofreading (Benchmark Report): Review the entire report for clarity, grammar, and style. Proofread carefully and make any necessary revisions.  Prepare any required presentations.\n",
    "\n",
    "* April 15: Milestone 3: Benchmark and Optimization Due (Benchmark Report, Code) (Report Document, Optimized Code, Benchmark Data)"
   ]
  },
  {
   "cell_type": "markdown",
   "id": "5787133a-eff4-4523-92a6-e03d9e3e1c61",
   "metadata": {},
   "source": [
    "---\n",
    "### Part 1 Software Exploration\n",
    "\n",
    "For the software exploration milestone, I will focus on OpenMM, a high-performance toolkit for molecular dynamics simulations. OpenMM's strength lies in its ability to efficiently simulate complex biomolecular systems, making it ideal for studying protein dynamics and interactions.  Its Python interface simplifies the process of setting up, running, and analyzing simulations, while its support for GPUs allows for significant performance gains.  My exploration will begin with the official OpenMM documentation (http://docs.openmm.org/latest/), which provides comprehensive guides, tutorials, and examples.  I will also refer to published research articles that have utilized OpenMM to understand its practical applications and best practices.  Specifically, I'll investigate how to set up a protein system (myoglobin in this case), including adding solvent, defining force fields, and setting simulation parameters.  I'll explore different integration algorithms and how to analyze simulation trajectories to extract meaningful data.  The outcome of this step will be a detailed tutorial document, targeted at my peers, demonstrating how to install and use OpenMM on the HPC. This document will include step-by-step instructions for setting up a myoglobin simulation, running it on the HPC cluster, and analyzing the results.  I aim to create a self-contained tutorial, including example scripts and necessary input files, bundled in a format compatible with getexample (or similar HPC resource sharing mechanisms) so that others can easily reproduce the simulation. "
   ]
  },
  {
   "cell_type": "markdown",
   "id": "cdb04773-9e58-4e19-baaa-76e19cb823b3",
   "metadata": {},
   "source": [
    "---\n",
    "### Part 2 Benchmark and Optimization\n",
    "\n",
    "The benchmark will focus on the computationally intensive parts of the myoglobin simulation, primarily the nonbonded force calculations and the integration step, as these consume the most simulation time.  While OpenMM itself has built-in parallelization capabilities for both CPUs and GPUs, the effective utilization of this parallelism is the key target for optimization.  Specifically, the benchmark will measure the time spent in the nonbonded force calculation routines (exploring different methods like PME and their parameters), the integration step (focusing on parallel execution of the chosen algorithm), and, if using GPUs, the time spent on CPU-GPU data transfers and kernel launch overhead.  Optimization efforts will concentrate on maximizing GPU utilization by minimizing explicit data transfers between CPU and GPU, tuning OpenMM's internal parallel execution parameters (threads per block, etc.), and potentially exploring different nonbonded force calculation parameters.  Success will be evaluated by measuring the simulation throughput (ns/day) and comparing the optimized code's performance against a baseline OpenMM script.  The goal is a significant speedup, ideally a factor of 2-4x or more, primarily through improved GPU utilization and parallel execution efficiency.  The final report will detail the benchmark problem (myoglobin simulation), optimization strategies, benchmark results (graphs, tables), analysis of speedup factors, limitations, and future work.  A successful outcome will demonstrate how targeted optimization of computationally intensive kernels and efficient parallel execution can significantly improve OpenMM simulation performance, enabling more efficient exploration of larger systems or longer timescales."
   ]
  },
  {
   "cell_type": "code",
   "execution_count": null,
   "id": "5289967f-755f-4ff2-b5c7-09afe547d54f",
   "metadata": {},
   "outputs": [],
   "source": []
  }
 ],
 "metadata": {
  "kernelspec": {
   "display_name": "anaconda-2024.02-py310",
   "language": "python",
   "name": "conda-env-anaconda-2024.02-py310-py"
  },
  "language_info": {
   "codemirror_mode": {
    "name": "ipython",
    "version": 3
   },
   "file_extension": ".py",
   "mimetype": "text/x-python",
   "name": "python",
   "nbconvert_exporter": "python",
   "pygments_lexer": "ipython3",
   "version": "3.10.14"
  }
 },
 "nbformat": 4,
 "nbformat_minor": 5
}
