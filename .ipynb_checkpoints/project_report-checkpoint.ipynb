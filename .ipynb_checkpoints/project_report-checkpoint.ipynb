{
 "cells": [
  {
   "cell_type": "markdown",
   "metadata": {},
   "source": [
    "# Part 2 - Computational Investigation of 1AKl Protein in Water\n",
    "By \"Julia Krznarich\""
   ]
  },
  {
   "cell_type": "markdown",
   "metadata": {},
   "source": [
    "\n",
    "\n",
    "<img src=\"https://cdn.rcsb.org/images/structures/1aki_assembly-1.jpeg\" alt=\"1aki_assembly-1\" width=\"20%\">\n",
    "\n",
    "Image from: https://cdn.rcsb.org/images/structures/1aki_assembly-1.jpeg"
   ]
  },
  {
   "cell_type": "markdown",
   "metadata": {},
   "source": [
    "---\n",
    "# Abstract\n",
    "\n",
    "This project delves into the biochemical domain of protein structure and function, a field I’m passionate about as a biochemistry student. Understanding how proteins behave in solution is crucial for insights into protein folding, dynamics, and interactions, which are essential for drug discovery and protein engineering. Molecular dynamics (MD) simulations, powered by tools like OpenMM, are invaluable for obtaining atomic-level details that are often beyond experimental reach. In this project, I aim to optimize the simulation of a protein in water using OpenMM, focusing on improving simulation efficiency while maintaining accuracy. By implementing strategies such as energy minimization, controlled equilibration (NVT), and production runs in the NPT ensemble, we balance computational resources and result precision. Moreover, optimizations such as adjustable nonbonded cutoffs, GPU acceleration, and periodic structural outputs enhance the performance of the simulation. The success of this project will be measured by the ability to run efficient, parallelized MD simulations, providing valuable insights into protein dynamics and demonstrating the power of computational techniques in biochemical research.\n"
   ]
  },
  {
   "cell_type": "markdown",
   "metadata": {},
   "source": [
    "---\n",
    "# Methodology\n",
    "\n",
    "**Create the System**\n",
    "- conda create -n openmm_env python=3.10\n",
    "-  conda activate openmm_env\n",
    "- conda install -c conda-forge openmm\n",
    "\n",
    "**Download the Protein Structure**\n",
    "\n",
    "- wget https://files.rcsb.org/download/1AKI.pdb\n",
    "\n",
    "**create a .py with the following contents**\n",
    "\n",
    "**Load the PDB file into OpenMM**\n",
    "\n",
    "- from openmm.app import *\n",
    "- from openmm import *\n",
    "- from openmm.unit import *\n",
    "- from sys import stdout\n",
    "\n",
    "- pdb = PDBFile(\"1AKI.pdb\")\n",
    "\n",
    "**Load the Forcefield**\n",
    "- forcefield = ForceField('amber14-all.xml', 'amber14/tip3pfb.xml')\n",
    "\n",
    "**Clean the Structure**\n",
    "- from openmm.app import Modeller\n",
    "\n",
    "- modeller = Modeller(pdb.topology, pdb.positions)\n",
    "- modeller.deleteWater()  # Optional if water is present in the PDB file\n",
    "- residues = modeller.addHydrogens(forcefield)  # Add hydrogens\n",
    "\n",
    "**Solvate the System**\n",
    "- modeller.addSolvent(forcefield, padding=1.0*nanometer)\n",
    "\n",
    "**Create the System**\n",
    "- from openmm import PME\n",
    "- from openmm.app import ForceField\n",
    "\n",
    "- system = forcefield.createSystem(modeller.topology, nonbondedMethod=PME, nonbondedCutoff=1.0*nanometer, constraints=HBonds)\n",
    "\n",
    "**Set up the Integrator**\n",
    "- from openmm import LangevinMiddleIntegrator\n",
    "\n",
    "- integrator = LangevinMiddleIntegrator(300*kelvin, 1/picosecond, 0.004*picoseconds)\n",
    "\n",
    "**Initialize the Simulation**\n",
    "- from openmm.app import Simulation\n",
    "\n",
    "- simulation = Simulation(modeller.topology, system, integrator)\n",
    "- simulation.context.setPositions(modeller.positions)\n",
    "\n",
    "**Energy Minimization**\n",
    "- print(\"Minimizing energy\")\n",
    "- simulation.minimizeEnergy()\n",
    "\n",
    "**Reporting**\n",
    "- simulation.reporters.append(PDBReporter('output.pdb', 1000))\n",
    "- simulation.reporters.append(StateDataReporter(stdout, 1000, step=True, potentialEnergy=True, temperature=True, volume=True))\n",
    "- simulation.reporters.append(StateDataReporter(\"md_log.txt\", 100, step=True, potentialEnergy=True, temperature=True, volume=True))\n",
    "\n",
    "**Equilibrium and Production Runs**\n",
    "- print(\"Running NVT\")\n",
    "- simulation.step(10000)  # Run 10,000 steps for equilibration\n",
    "- from openmm import MonteCarloBarostat\n",
    "\n",
    "- system.addForce(MonteCarloBarostat(1*bar, 300*kelvin))  # Control pressure\n",
    "- simulation.context.reinitialize(preserveState=True)\n",
    "\n",
    "- print(\"Running NPT\")\n",
    "- simulation.step(10000)  # Run production MD\n",
    "\n",
    "**Analysis**\n",
    "- import numpy as np\n",
    "- import matplotlib.pyplot as plt\n",
    "\n",
    "- data = np.loadtxt(\"md_log.txt\", delimiter=',')\n",
    "- step = data[:,0]\n",
    "- potential_energy = data[:,1]\n",
    "- temperature = data[:,2]\n",
    "- volume = data[:,3]\n",
    "\n",
    "- plt.plot(step, potential_energy)\n",
    "- plt.xlabel(\"Step\")\n",
    "- plt.ylabel(\"Potential energy (kJ/mol)\")\n",
    "- plt.show()\n",
    "\n",
    "- plt.plot(step, temperature)\n",
    "- plt.xlabel(\"Step\")\n",
    "- plt.ylabel(\"Temperature (K)\")\n",
    "- plt.show()\n",
    "\n",
    "- plt.plot(step, volume)\n",
    "- plt.xlabel(\"Step\")\n",
    "- plt.ylabel(\"Volume (nm^3)\")\n",
    "- plt.show()"
   ]
  },
  {
   "cell_type": "markdown",
   "metadata": {},
   "source": [
    "---\n",
    "# Timing Results\n",
    "\n",
    "&#9989;  Show the results of a baseline experiment on a single core and after optimization.  Also include a graph of the results. \n",
    "\n",
    "\n",
    "&#9989;  Provide the results of a benchmark or scaling study for your project.  Make sure you include a description of the hardware that was used and graph the results.  Make sure you include detailed descriptions about the hardware that was used.  Graphs alone are not sufficient, explain the graphs. Did they meet expectations?  Was there any anomalies?\n"
   ]
  },
  {
   "cell_type": "markdown",
   "metadata": {},
   "source": [
    "---\n",
    "# Concluding Discussion and Future Work\n",
    "\n",
    "This project explored molecular dynamics simulations using OpenMM, focusing on simulating the 1AKI protein in explicit water to study its structural stability and behavior under physiological conditions. Through this process, I implemented solvation, energy minimization, and both NVT and NPT ensemble simulations, while benchmarking performance on a GPU-enabled HPC cluster.\n",
    "\n",
    "One of the most valuable aspects of this project was learning how to optimize simulations for both speed and accuracy. By adjusting integrator parameters, force field choices, and solvent padding, I was able to fine-tune the simulation for more stable and efficient runs. Additionally, integrating StateDataReporter and PDBReporter allowed for meaningful analysis of potential energy, temperature, and system volume over time.\n",
    "\n",
    "The most interesting insight was visualizing how the protein equilibrates in solution and how subtle parameter changes influence the system's physical behavior. It reinforced the importance of accurate model preparation and the power of GPU acceleration in molecular simulation.\n",
    "\n",
    "Next steps would include:\n",
    "\n",
    "- Running longer simulations (e.g., hundreds of nanoseconds) to observe slower conformational changes.\n",
    "- Performing comparative simulations with mutant forms of the protein to study structural or functional shifts.\n",
    "- Using trajectory analysis tools like MDTraj or PyTraj to analyze RMSD, hydrogen bonding, or secondary structure evolution.\n",
    "- Exploring enhanced sampling techniques like replica exchange or metadynamics.\n",
    "\n",
    "\n",
    "Overall, this project provided hands-on experience with real-world biophysical modeling and showed how computational tools can drive discovery in structural biology."
   ]
  },
  {
   "cell_type": "markdown",
   "metadata": {},
   "source": [
    "---\n",
    "# References\n",
    "\n",
    "- https://openmm.org/documentation\n",
    "- https://openmm.github.io/openmm-cookbook/latest/notebooks/tutorials/protein_in_water.html"
   ]
  }
 ],
 "metadata": {
  "anaconda-cloud": {},
  "kernelspec": {
   "display_name": "anaconda-2024.02-py310",
   "language": "python",
   "name": "conda-env-anaconda-2024.02-py310-py"
  },
  "language_info": {
   "codemirror_mode": {
    "name": "ipython",
    "version": 3
   },
   "file_extension": ".py",
   "mimetype": "text/x-python",
   "name": "python",
   "nbconvert_exporter": "python",
   "pygments_lexer": "ipython3",
   "version": "3.10.14"
  }
 },
 "nbformat": 4,
 "nbformat_minor": 4
}
